{
 "cells": [
  {
   "cell_type": "markdown",
   "id": "50489a00",
   "metadata": {},
   "source": [
    "### Importing Modules"
   ]
  },
  {
   "cell_type": "code",
   "execution_count": 12,
   "id": "0b035473",
   "metadata": {},
   "outputs": [
    {
     "ename": "ModuleNotFoundError",
     "evalue": "No module named 'tensorflow.keras'",
     "output_type": "error",
     "traceback": [
      "\u001b[1;31m---------------------------------------------------------------------------\u001b[0m",
      "\u001b[1;31mModuleNotFoundError\u001b[0m                       Traceback (most recent call last)",
      "Cell \u001b[1;32mIn[12], line 4\u001b[0m\n\u001b[0;32m      2\u001b[0m \u001b[38;5;28;01mimport\u001b[39;00m \u001b[38;5;21;01mtensorflow\u001b[39;00m \u001b[38;5;28;01mas\u001b[39;00m \u001b[38;5;21;01mtf\u001b[39;00m\n\u001b[0;32m      3\u001b[0m \u001b[38;5;28;01mimport\u001b[39;00m \u001b[38;5;21;01mpandas\u001b[39;00m \u001b[38;5;28;01mas\u001b[39;00m \u001b[38;5;21;01mpd\u001b[39;00m\n\u001b[1;32m----> 4\u001b[0m \u001b[38;5;28;01mfrom\u001b[39;00m \u001b[38;5;21;01mtensorflow\u001b[39;00m\u001b[38;5;21;01m.\u001b[39;00m\u001b[38;5;21;01mkeras\u001b[39;00m\u001b[38;5;21;01m.\u001b[39;00m\u001b[38;5;21;01mpreprocessing\u001b[39;00m \u001b[38;5;28;01mimport\u001b[39;00m image\n\u001b[0;32m      5\u001b[0m \u001b[38;5;66;03m#from tensorflow.keras.preprocessing.image import ImageDataGenerator\u001b[39;00m\n",
      "\u001b[1;31mModuleNotFoundError\u001b[0m: No module named 'tensorflow.keras'"
     ]
    }
   ],
   "source": [
    "import numpy as np\n",
    "import tensorflow as tf\n",
    "import pandas as pd\n",
    "from tensorflow.keras.preprocessing import image\n",
    "#from tensorflow.keras.preprocessing.image import ImageDataGenerator"
   ]
  },
  {
   "cell_type": "code",
   "execution_count": 9,
   "id": "67a7a9bb",
   "metadata": {},
   "outputs": [],
   "source": [
    "import google.generativeai as palm"
   ]
  },
  {
   "cell_type": "markdown",
   "id": "0dd50e36",
   "metadata": {},
   "source": [
    "### Import datasets"
   ]
  },
  {
   "cell_type": "code",
   "execution_count": null,
   "id": "fb6ff56f",
   "metadata": {},
   "outputs": [],
   "source": [
    "df=pd.read_csv('vitamins.csv')"
   ]
  },
  {
   "cell_type": "code",
   "execution_count": null,
   "id": "92a1a4af",
   "metadata": {},
   "outputs": [],
   "source": [
    "df.head()"
   ]
  },
  {
   "cell_type": "markdown",
   "id": "fdaab58a",
   "metadata": {},
   "source": [
    "### Configure API key"
   ]
  },
  {
   "cell_type": "markdown",
   "id": "4390a57b",
   "metadata": {},
   "source": [
    "#### check Readme File on how to obtain a Palm api Key"
   ]
  },
  {
   "cell_type": "code",
   "execution_count": null,
   "id": "3757d0de",
   "metadata": {},
   "outputs": [],
   "source": [
    "palm.configure(api_key=\"YOUR_PALM_API_KEY\")"
   ]
  },
  {
   "cell_type": "markdown",
   "id": "1ed90465",
   "metadata": {},
   "source": [
    "### Loading our Pre-trained Model"
   ]
  },
  {
   "cell_type": "code",
   "execution_count": null,
   "id": "99baaf61",
   "metadata": {},
   "outputs": [],
   "source": [
    "model = tf.keras.models.load_model('finetuned_inceptionv3_model.h5')"
   ]
  },
  {
   "cell_type": "raw",
   "id": "ea43c0b6",
   "metadata": {},
   "source": [
    "model.save('food_inceptionv3_model.pkl')"
   ]
  },
  {
   "cell_type": "markdown",
   "id": "9f348f1b",
   "metadata": {},
   "source": [
    "### Importing Labels"
   ]
  },
  {
   "cell_type": "raw",
   "id": "029b8769",
   "metadata": {},
   "source": [
    "# Run it once\n",
    "\n",
    "# Define the data generators\n",
    "train_datagen = ImageDataGenerator(\n",
    "    rescale=1./255,\n",
    "    rotation_range=20,\n",
    "    width_shift_range=0.2,\n",
    "    height_shift_range=0.2,\n",
    "    shear_range=0.2,\n",
    "    zoom_range=0.2,\n",
    "    horizontal_flip=True,\n",
    "    fill_mode='nearest')\n",
    "\n",
    "batch_size = 32\n",
    "train_data_dir='food_dataset\\\\train'\n",
    "image_size = (224, 224)\n",
    "\n",
    "train_generator = train_datagen.flow_from_directory(\n",
    "    train_data_dir,\n",
    "    target_size=image_size,\n",
    "    batch_size=batch_size,\n",
    "    class_mode='categorical')"
   ]
  },
  {
   "cell_type": "raw",
   "id": "c5fc47e7",
   "metadata": {},
   "source": [
    "#Run it once \n",
    "\n",
    "class_labels = list(train_generator.class_indices.keys())\n",
    "\n",
    "# Store class labels in a file for future use\n",
    "with open('class_labels.txt', 'w') as file:\n",
    "    for label in class_labels:\n",
    "        file.write(label + '\\n')"
   ]
  },
  {
   "cell_type": "markdown",
   "id": "4bceffdf",
   "metadata": {},
   "source": [
    "#### we only need all the class labels no need of whole dataset , to avoid loading the whole dataset , we will make class labels text file for the future use"
   ]
  },
  {
   "cell_type": "code",
   "execution_count": null,
   "id": "c7773211",
   "metadata": {},
   "outputs": [],
   "source": [
    "# Load the class labels from the file\n",
    "with open('class_labels.txt', 'r') as file:\n",
    "    class_labels = [line.strip() for line in file.readlines()]"
   ]
  },
  {
   "cell_type": "markdown",
   "id": "eaf0688d",
   "metadata": {},
   "source": [
    "### Functions"
   ]
  },
  {
   "cell_type": "markdown",
   "id": "938ab41b",
   "metadata": {},
   "source": [
    "#### Predict Image Function will pre process the uploaded image and predict the class of image"
   ]
  },
  {
   "cell_type": "code",
   "execution_count": null,
   "id": "1fbd7e40",
   "metadata": {},
   "outputs": [],
   "source": [
    "def predict_image(image_path):\n",
    "    img_path = image_path\n",
    "    img = image.load_img(img_path, target_size=(224, 224))\n",
    "    img_array = image.img_to_array(img)\n",
    "    img_array = np.expand_dims(img_array, axis=0)\n",
    "    img_array /= 255.\n",
    "    # Make a prediction\n",
    "    prediction = model.predict(img_array)\n",
    "    predicted_class_index = np.argmax(prediction)\n",
    "    predicted_class = class_labels[predicted_class_index] # assuming you have the train_generator\n",
    "    return predicted_class"
   ]
  },
  {
   "cell_type": "markdown",
   "id": "83e6c91e",
   "metadata": {},
   "source": [
    "#### Nutrition facts Function Produce Nutrition and Fun facts "
   ]
  },
  {
   "cell_type": "markdown",
   "id": "344bec5a",
   "metadata": {},
   "source": [
    "Nutrition facts Function uses predicted varaiable and searches its nutrition info from csv and also using text-model from Palm api it retrieves Fun facts about classified Label "
   ]
  },
  {
   "cell_type": "code",
   "execution_count": null,
   "id": "92d65973",
   "metadata": {},
   "outputs": [],
   "source": [
    "def nutrition_facts(name):\n",
    "    if name in df['Name'].values:\n",
    "        row = df.loc[df['Name'] == name]\n",
    "        for col in df.columns:\n",
    "            print(f\"{col}:\")\n",
    "            print(f\"{row[col].values[0]}\")\n",
    "            print()\n",
    "        prompt = f\"2 fun facts about {name}\"\n",
    "        model='models/text-bison-001'\n",
    "        print(f\"Few facts about {name}:\")\n",
    "        completion= palm.generate_text(\n",
    "        model=model,\n",
    "        prompt=prompt,\n",
    "        temperature=0.3,\n",
    "        max_output_tokens=80, )\n",
    "        print(completion.result)\n",
    "    else:\n",
    "        print(f\"The value '{name}' does not exist in the dataset.\")"
   ]
  },
  {
   "cell_type": "markdown",
   "id": "552feedf",
   "metadata": {},
   "source": [
    "Main Function is to call both predict_image ,nutrition_facts"
   ]
  },
  {
   "cell_type": "code",
   "execution_count": null,
   "id": "aa37a8db",
   "metadata": {},
   "outputs": [],
   "source": [
    "def main(x):\n",
    "    y=predict_image(x)\n",
    "    print(\"The Predicted Fruit/Veggie :\",y)\n",
    "    print(\"Vitamin Details:\")\n",
    "    print(nutrition_facts(y))"
   ]
  },
  {
   "cell_type": "code",
   "execution_count": null,
   "id": "2f097912",
   "metadata": {},
   "outputs": [],
   "source": [
    "x=input(\"Enter the File path: \")\n",
    "main(x)"
   ]
  },
  {
   "cell_type": "code",
   "execution_count": null,
   "id": "2fd046b3",
   "metadata": {},
   "outputs": [],
   "source": []
  }
 ],
 "metadata": {
  "kernelspec": {
   "display_name": "Python 3 (ipykernel)",
   "language": "python",
   "name": "python3"
  },
  "language_info": {
   "codemirror_mode": {
    "name": "ipython",
    "version": 3
   },
   "file_extension": ".py",
   "mimetype": "text/x-python",
   "name": "python",
   "nbconvert_exporter": "python",
   "pygments_lexer": "ipython3",
   "version": "3.9.7"
  }
 },
 "nbformat": 4,
 "nbformat_minor": 5
}
